{
 "cells": [
  {
   "cell_type": "markdown",
   "metadata": {},
   "source": [
    "Download the kaggle dataset for Polymarket Election results by state.\n",
    "\n",
    "Download public trade data from Kalshi for the whole nation."
   ]
  },
  {
   "cell_type": "code",
   "execution_count": 76,
   "metadata": {},
   "outputs": [],
   "source": [
    "import pandas as pd\n",
    "import numpy as np\n",
    "import os, json, requests\n",
    "from tqdm import tqdm\n",
    "import datetime\n",
    "\n",
    "### GPT generated following state electoral votes for weighting\n",
    "state_electoral_votes = {\n",
    "    'NE': 5, 'RI': 4, 'NH': 4, 'NV': 6, 'OR': 8, 'WI': 10, 'GA': 16, 'AZ': 11, 'MS': 6,\n",
    "    'NC': 16, 'ID': 4, 'IN': 11, 'MT': 4, 'ND': 3, 'MA': 11, 'WV': 4, 'TX': 40, 'DE': 3,\n",
    "    'CO': 10, 'VA': 13, 'OK': 7, 'VT': 3, 'AK': 3, 'KY': 8, 'HI': 4, 'MO': 10, 'FL': 30,\n",
    "    'UT': 6, 'NJ': 14, 'TN': 11, 'SD': 3, 'MD': 10, 'PA': 19, 'CA': 54, 'OH': 17, 'MI': 15,\n",
    "    'NY': 28, 'CT': 7, 'SC': 9, 'WY': 3, 'IL': 19, 'WA': 12, 'MN': 10, 'IA': 6, 'AR': 6,\n",
    "    'LA': 8, 'ME': 4, 'AL': 9, 'KS': 6, 'NM': 5, 'DC': 3\n",
    "}"
   ]
  },
  {
   "cell_type": "code",
   "execution_count": 5,
   "metadata": {},
   "outputs": [],
   "source": [
    "### state data; only 10-04 and 10-05 overlap with the Kalshi data\n",
    "directory = 'archive/csv_day'\n",
    "file_names = os.listdir(directory)\n",
    "\n",
    "dataframes = []\n",
    "for file_name in file_names:\n",
    "    file_path = os.path.join(directory, file_name)\n",
    "    df = pd.read_csv(file_path)\n",
    "    state = file_name.split('_')[0]\n",
    "    df['state'] = state\n",
    "    df['date'] = pd.to_datetime(df['Date (UTC)']).dt.strftime(\"%Y-%m-%d\")\n",
    "    dataframes.append(df)\n",
    "\n",
    "# Now you have a list of dataframes, one for each file in the directory\n",
    "df_state = pd.concat(dataframes)\n",
    "states = df_state['state'].unique()\n",
    "dates = df_state['Date (UTC)'].unique()"
   ]
  },
  {
   "cell_type": "code",
   "execution_count": 68,
   "metadata": {},
   "outputs": [
    {
     "data": {
      "text/plain": [
       "array(['NE', 'RI', 'NH', 'NV', 'OR', 'WI', 'GA', 'AZ', 'MS', 'NC', 'ID',\n",
       "       'IN', 'MT', 'ND', 'MA', 'WV', 'TX', 'DE', 'CO', 'VA', 'OK', 'VT',\n",
       "       'AK', 'KY', 'HI', 'MO', 'FL', 'UT', 'NJ', 'TN', 'SD', 'MD', 'PA',\n",
       "       'CA', 'OH', 'MI', 'NY', 'CT', 'SC', 'WY', 'IL', 'WA', 'MN', 'IA',\n",
       "       'AR', 'LA', 'ME', 'AL', 'KS', 'NM'], dtype=object)"
      ]
     },
     "execution_count": 68,
     "metadata": {},
     "output_type": "execute_result"
    }
   ],
   "source": [
    "states"
   ]
  },
  {
   "cell_type": "code",
   "execution_count": 6,
   "metadata": {},
   "outputs": [
    {
     "name": "stderr",
     "output_type": "stream",
     "text": [
      "100%|██████████| 2/2 [00:02<00:00,  1.17s/it]\n"
     ]
    }
   ],
   "source": [
    "### national data\n",
    "def get_date(date):\n",
    "    URL = f\"https://kalshi-public-docs.s3.amazonaws.com/reporting/market_data_{date}.json\"\n",
    "    response = requests.get(URL)\n",
    "    jsondata = response.json()\n",
    "    data = json.dumps(jsondata)\n",
    "    df = pd.DataFrame(eval(data))\n",
    "    # df = df[df['ticker_name'] == 'US National']\n",
    "    df = df[df.ticker_name=='PRES-2024-DJT']\n",
    "    return df\n",
    "dates_national = sorted(list(set([i.split(' ')[0] for i in dates])))[-2:]\n",
    "for i,s in enumerate(dates_national):\n",
    "    month,day,year = s.split('-')\n",
    "    dates_national[i] = year + '-' + month + '-' + day\n",
    "dfs = []\n",
    "for date in tqdm(dates_national):\n",
    "    df = get_date(date)\n",
    "    df['Date (UTC)'] = date\n",
    "    dfs.append(df)\n",
    "df_national = pd.concat(dfs)"
   ]
  },
  {
   "cell_type": "code",
   "execution_count": 7,
   "metadata": {},
   "outputs": [
    {
     "data": {
      "text/html": [
       "<div>\n",
       "<style scoped>\n",
       "    .dataframe tbody tr th:only-of-type {\n",
       "        vertical-align: middle;\n",
       "    }\n",
       "\n",
       "    .dataframe tbody tr th {\n",
       "        vertical-align: top;\n",
       "    }\n",
       "\n",
       "    .dataframe thead th {\n",
       "        text-align: right;\n",
       "    }\n",
       "</style>\n",
       "<table border=\"1\" class=\"dataframe\">\n",
       "  <thead>\n",
       "    <tr style=\"text-align: right;\">\n",
       "      <th></th>\n",
       "      <th>date</th>\n",
       "      <th>ticker_name</th>\n",
       "      <th>report_ticker</th>\n",
       "      <th>payout_type</th>\n",
       "      <th>open_interest</th>\n",
       "      <th>daily_volume</th>\n",
       "      <th>block_volume</th>\n",
       "      <th>high</th>\n",
       "      <th>low</th>\n",
       "      <th>status</th>\n",
       "      <th>Date (UTC)</th>\n",
       "    </tr>\n",
       "  </thead>\n",
       "  <tbody>\n",
       "    <tr>\n",
       "      <th>15062</th>\n",
       "      <td>2024-10-04</td>\n",
       "      <td>PRES-2024-DJT</td>\n",
       "      <td>PRES</td>\n",
       "      <td>Binary Option</td>\n",
       "      <td>151640.0</td>\n",
       "      <td>257284</td>\n",
       "      <td>0</td>\n",
       "      <td>51</td>\n",
       "      <td>49</td>\n",
       "      <td>active</td>\n",
       "      <td>2024-10-04</td>\n",
       "    </tr>\n",
       "    <tr>\n",
       "      <th>13109</th>\n",
       "      <td>2024-10-05</td>\n",
       "      <td>PRES-2024-DJT</td>\n",
       "      <td>PRES</td>\n",
       "      <td>Binary Option</td>\n",
       "      <td>167088.0</td>\n",
       "      <td>19956</td>\n",
       "      <td>0</td>\n",
       "      <td>50</td>\n",
       "      <td>49</td>\n",
       "      <td>active</td>\n",
       "      <td>2024-10-05</td>\n",
       "    </tr>\n",
       "  </tbody>\n",
       "</table>\n",
       "</div>"
      ],
      "text/plain": [
       "             date    ticker_name report_ticker    payout_type  open_interest  \\\n",
       "15062  2024-10-04  PRES-2024-DJT          PRES  Binary Option       151640.0   \n",
       "13109  2024-10-05  PRES-2024-DJT          PRES  Binary Option       167088.0   \n",
       "\n",
       "       daily_volume  block_volume  high  low  status  Date (UTC)  \n",
       "15062        257284             0    51   49  active  2024-10-04  \n",
       "13109         19956             0    50   49  active  2024-10-05  "
      ]
     },
     "execution_count": 7,
     "metadata": {},
     "output_type": "execute_result"
    }
   ],
   "source": [
    "df_national"
   ]
  },
  {
   "cell_type": "code",
   "execution_count": 54,
   "metadata": {},
   "outputs": [
    {
     "data": {
      "text/html": [
       "<div>\n",
       "<style scoped>\n",
       "    .dataframe tbody tr th:only-of-type {\n",
       "        vertical-align: middle;\n",
       "    }\n",
       "\n",
       "    .dataframe tbody tr th {\n",
       "        vertical-align: top;\n",
       "    }\n",
       "\n",
       "    .dataframe thead th {\n",
       "        text-align: right;\n",
       "    }\n",
       "</style>\n",
       "<table border=\"1\" class=\"dataframe\">\n",
       "  <thead>\n",
       "    <tr style=\"text-align: right;\">\n",
       "      <th></th>\n",
       "      <th>Date (UTC)</th>\n",
       "      <th>Timestamp (UTC)</th>\n",
       "      <th>Republican</th>\n",
       "      <th>Democrat</th>\n",
       "      <th>Other</th>\n",
       "      <th>state</th>\n",
       "      <th>date</th>\n",
       "    </tr>\n",
       "  </thead>\n",
       "  <tbody>\n",
       "    <tr>\n",
       "      <th>190</th>\n",
       "      <td>10-05-2024 00:00</td>\n",
       "      <td>1728086402</td>\n",
       "      <td>0.9785</td>\n",
       "      <td>0.0135</td>\n",
       "      <td>0.0035</td>\n",
       "      <td>NE</td>\n",
       "      <td>2024-10-05</td>\n",
       "    </tr>\n",
       "    <tr>\n",
       "      <th>191</th>\n",
       "      <td>10-05-2024 15:05</td>\n",
       "      <td>1728140702</td>\n",
       "      <td>0.9775</td>\n",
       "      <td>0.0135</td>\n",
       "      <td>0.0035</td>\n",
       "      <td>NE</td>\n",
       "      <td>2024-10-05</td>\n",
       "    </tr>\n",
       "  </tbody>\n",
       "</table>\n",
       "</div>"
      ],
      "text/plain": [
       "           Date (UTC)  Timestamp (UTC)  Republican  Democrat   Other state  \\\n",
       "190  10-05-2024 00:00       1728086402      0.9785    0.0135  0.0035    NE   \n",
       "191  10-05-2024 15:05       1728140702      0.9775    0.0135  0.0035    NE   \n",
       "\n",
       "           date  \n",
       "190  2024-10-05  \n",
       "191  2024-10-05  "
      ]
     },
     "execution_count": 54,
     "metadata": {},
     "output_type": "execute_result"
    }
   ],
   "source": [
    "df_state[(df_state['state'] == 'NE') & (df_state['date'] == '2024-10-05')]"
   ]
  },
  {
   "cell_type": "code",
   "execution_count": 26,
   "metadata": {},
   "outputs": [],
   "source": [
    "date = dates_national[0]"
   ]
  },
  {
   "cell_type": "code",
   "execution_count": 55,
   "metadata": {},
   "outputs": [],
   "source": [
    "### binomial approximation\n",
    "votes_rep = []\n",
    "votes_dem = []\n",
    "weights = []\n",
    "for state in states:\n",
    "    df = df_state[df_state['state'] == state]\n",
    "    df = df[df['date'] == date]\n",
    "    if len(df) == 0:\n",
    "        continue\n",
    "    ### whether to throw away the third party votes\n",
    "    p_rep = df['Republican'].values[0]\n",
    "    p_dem = df['Democrat'].values[0]\n",
    "    p_rep, p_dem = p_rep / (p_rep + p_dem), p_dem / (p_rep + p_dem)\n",
    "    votes_rep.append(p_rep)\n",
    "    votes_dem.append(p_dem)\n",
    "    weights.append(state_electoral_votes[state])\n",
    "    # price = df['Price'].values[0]\n",
    "    # votes.append(price)\n",
    "    # weights.append(state_electoral_votes[state])\n",
    "votes_rep = np.array(votes_rep)\n",
    "votes_dem = np.array(votes_dem)\n",
    "weights = np.array(weights)\n",
    "weights = weights / np.sum(weights)"
   ]
  },
  {
   "cell_type": "code",
   "execution_count": 92,
   "metadata": {},
   "outputs": [],
   "source": [
    "### MC simulation\n",
    "votes_rep = {}\n",
    "votes_dem = {}\n",
    "for state in states:\n",
    "    df = df_state[df_state['state'] == state]\n",
    "    df = df[df['date'] == date]\n",
    "    if len(df) == 0:\n",
    "        continue\n",
    "    ### whether to throw away the third party votes\n",
    "    p_rep = df['Republican'].values[0]\n",
    "    p_dem = df['Democrat'].values[0]\n",
    "    p_rep, p_dem = p_rep / (p_rep + p_dem), p_dem / (p_rep + p_dem)\n",
    "    votes_rep[state] = p_rep\n",
    "    votes_dem[state] = p_dem\n",
    "votes_dem['DC'] = 1\n",
    "votes_rep['DC'] = 0\n",
    "\n",
    "# # Define the probability of winning each state (this is just an example list)\n",
    "# win_probabilities = {\n",
    "#     'NE': 0.8, 'RI': 0.6, 'NH': 0.5, 'NV': 0.55, 'OR': 0.7, 'WI': 0.52, 'GA': 0.48, 'AZ': 0.51,\n",
    "#     'MS': 0.9, 'NC': 0.49, 'ID': 0.95, 'IN': 0.75, 'MT': 0.85, 'ND': 0.88, 'MA': 0.99, 'WV': 0.92,\n",
    "#     'TX': 0.45, 'DE': 0.98, 'CO': 0.6, 'VA': 0.58, 'OK': 0.88, 'VT': 0.99, 'AK': 0.82, 'KY': 0.9,\n",
    "#     'HI': 0.98, 'MO': 0.75, 'FL': 0.47, 'UT': 0.9, 'NJ': 0.95, 'TN': 0.85, 'SD': 0.92, 'MD': 0.98,\n",
    "#     'PA': 0.5, 'CA': 0.99, 'OH': 0.48, 'MI': 0.52, 'NY': 0.99, 'CT': 0.98, 'SC': 0.48, 'WY': 0.95,\n",
    "#     'IL': 0.99, 'WA': 0.97, 'MN': 0.55, 'IA': 0.48, 'AR': 0.9, 'LA': 0.9, 'ME': 0.55, 'AL': 0.9,\n",
    "#     'KS': 0.88, 'NM': 0.58\n",
    "# }\n",
    "def simu_prob(win_probabilities):\n",
    "    # Define the number of simulations\n",
    "    num_simulations = 100000\n",
    "\n",
    "    # Initialize a counter for wins\n",
    "    win_counter = 0\n",
    "\n",
    "    # Run the Monte Carlo simulation\n",
    "    for _ in tqdm(range(num_simulations)):\n",
    "        total_electoral_votes = 0\n",
    "        # For each state, simulate the win/loss based on the probability of winning\n",
    "        for state, prob in win_probabilities.items():\n",
    "            if np.random.rand() < prob:\n",
    "                total_electoral_votes += state_electoral_votes[state]\n",
    "        # Check if the candidate won the election (needs at least 270 electoral votes)\n",
    "        if total_electoral_votes >= 270:\n",
    "            win_counter += 1\n",
    "\n",
    "    # Calculate the probability of winning based on the simulations\n",
    "    win_probability = win_counter / num_simulations\n",
    "\n",
    "    # Print the result\n",
    "    print(f\"Estimated probability of winning: {win_probability * 100:.2f}%\")\n",
    "    return win_probability"
   ]
  },
  {
   "cell_type": "code",
   "execution_count": 88,
   "metadata": {},
   "outputs": [
    {
     "data": {
      "text/plain": [
       "array([1., 1., 1., 1., 1., 1., 1., 1., 1., 1., 1., 1., 1., 1., 1., 1., 1.,\n",
       "       1., 1., 1., 1., 1., 1., 1., 1., 1., 1., 1., 1., 1., 1., 1., 1., 1.,\n",
       "       1., 1., 1., 1., 1., 1., 1., 1., 1., 1., 1., 1., 1., 1., 1., 1., 1.])"
      ]
     },
     "execution_count": 88,
     "metadata": {},
     "output_type": "execute_result"
    }
   ],
   "source": [
    "np.array(list(votes_rep.values())) + np.array(list(votes_dem.values()))"
   ]
  },
  {
   "cell_type": "code",
   "execution_count": 89,
   "metadata": {},
   "outputs": [
    {
     "data": {
      "text/plain": [
       "538"
      ]
     },
     "execution_count": 89,
     "metadata": {},
     "output_type": "execute_result"
    }
   ],
   "source": [
    "sum(state_electoral_votes.values())"
   ]
  },
  {
   "cell_type": "code",
   "execution_count": 99,
   "metadata": {},
   "outputs": [
    {
     "name": "stdout",
     "output_type": "stream",
     "text": [
      "Rep:\n"
     ]
    },
    {
     "name": "stderr",
     "output_type": "stream",
     "text": [
      "100%|██████████| 100000/100000 [00:00<00:00, 100305.75it/s]\n"
     ]
    },
    {
     "name": "stdout",
     "output_type": "stream",
     "text": [
      "Estimated probability of winning: 41.97%\n",
      "Dem:\n"
     ]
    },
    {
     "name": "stderr",
     "output_type": "stream",
     "text": [
      "100%|██████████| 100000/100000 [00:00<00:00, 103370.51it/s]"
     ]
    },
    {
     "name": "stdout",
     "output_type": "stream",
     "text": [
      "Estimated probability of winning: 56.44%\n",
      "Tie with probability: 1.59%\n"
     ]
    },
    {
     "name": "stderr",
     "output_type": "stream",
     "text": [
      "\n"
     ]
    }
   ],
   "source": [
    "print('Rep:')\n",
    "p1 = simu_prob(votes_rep)\n",
    "print('Dem:')\n",
    "p2 = simu_prob(votes_dem)\n",
    "print(f'Tie with probability: {100*(1 - p1 - p2):.2f}%')"
   ]
  },
  {
   "cell_type": "code",
   "execution_count": 31,
   "metadata": {},
   "outputs": [
    {
     "data": {
      "text/plain": [
       "(0.48993457943925234, 0.5077177570093458)"
      ]
     },
     "execution_count": 31,
     "metadata": {},
     "output_type": "execute_result"
    }
   ],
   "source": [
    "np.sum(votes_rep * weights), np.sum(votes_dem * weights)"
   ]
  },
  {
   "cell_type": "code",
   "execution_count": 12,
   "metadata": {},
   "outputs": [
    {
     "data": {
      "text/plain": [
       "[0.9785,\n",
       " 0.017,\n",
       " 0.115,\n",
       " 0.475,\n",
       " 0.0295,\n",
       " 0.435,\n",
       " 0.63,\n",
       " 0.635,\n",
       " 0.978,\n",
       " 0.575,\n",
       " 0.9795,\n",
       " 0.9745,\n",
       " 0.977,\n",
       " 0.982,\n",
       " 0.0165,\n",
       " 0.9815,\n",
       " 0.885,\n",
       " 0.024,\n",
       " 0.031,\n",
       " 0.125,\n",
       " 0.9885,\n",
       " 0.014,\n",
       " 0.9,\n",
       " 0.9775,\n",
       " 0.0185,\n",
       " 0.983,\n",
       " 0.845,\n",
       " 0.974,\n",
       " 0.0315,\n",
       " 0.976,\n",
       " 0.9855,\n",
       " 0.0095,\n",
       " 0.515,\n",
       " 0.0175,\n",
       " 0.925,\n",
       " 0.415,\n",
       " 0.0265,\n",
       " 0.0145,\n",
       " 0.9745,\n",
       " 0.987,\n",
       " 0.021,\n",
       " 0.0155,\n",
       " 0.075,\n",
       " 0.915,\n",
       " 0.9875,\n",
       " 0.9765,\n",
       " 0.105,\n",
       " 0.9785,\n",
       " 0.978,\n",
       " 0.08]"
      ]
     },
     "execution_count": 12,
     "metadata": {},
     "output_type": "execute_result"
    }
   ],
   "source": [
    "votes"
   ]
  },
  {
   "cell_type": "code",
   "execution_count": 13,
   "metadata": {},
   "outputs": [
    {
     "data": {
      "text/plain": [
       "[5,\n",
       " 4,\n",
       " 4,\n",
       " 6,\n",
       " 8,\n",
       " 10,\n",
       " 16,\n",
       " 11,\n",
       " 6,\n",
       " 16,\n",
       " 4,\n",
       " 11,\n",
       " 4,\n",
       " 3,\n",
       " 11,\n",
       " 4,\n",
       " 40,\n",
       " 3,\n",
       " 10,\n",
       " 13,\n",
       " 7,\n",
       " 3,\n",
       " 3,\n",
       " 8,\n",
       " 4,\n",
       " 10,\n",
       " 30,\n",
       " 6,\n",
       " 14,\n",
       " 11,\n",
       " 3,\n",
       " 10,\n",
       " 19,\n",
       " 54,\n",
       " 17,\n",
       " 15,\n",
       " 28,\n",
       " 7,\n",
       " 9,\n",
       " 3,\n",
       " 19,\n",
       " 12,\n",
       " 10,\n",
       " 6,\n",
       " 6,\n",
       " 8,\n",
       " 4,\n",
       " 9,\n",
       " 6,\n",
       " 5]"
      ]
     },
     "execution_count": 13,
     "metadata": {},
     "output_type": "execute_result"
    }
   ],
   "source": [
    "weights"
   ]
  },
  {
   "cell_type": "code",
   "execution_count": 10,
   "metadata": {},
   "outputs": [
    {
     "data": {
      "text/html": [
       "<div>\n",
       "<style scoped>\n",
       "    .dataframe tbody tr th:only-of-type {\n",
       "        vertical-align: middle;\n",
       "    }\n",
       "\n",
       "    .dataframe tbody tr th {\n",
       "        vertical-align: top;\n",
       "    }\n",
       "\n",
       "    .dataframe thead th {\n",
       "        text-align: right;\n",
       "    }\n",
       "</style>\n",
       "<table border=\"1\" class=\"dataframe\">\n",
       "  <thead>\n",
       "    <tr style=\"text-align: right;\">\n",
       "      <th></th>\n",
       "      <th>Date (UTC)</th>\n",
       "      <th>Timestamp (UTC)</th>\n",
       "      <th>Republican</th>\n",
       "      <th>Democrat</th>\n",
       "      <th>Other</th>\n",
       "      <th>state</th>\n",
       "      <th>date</th>\n",
       "    </tr>\n",
       "  </thead>\n",
       "  <tbody>\n",
       "    <tr>\n",
       "      <th>189</th>\n",
       "      <td>10-04-2024 00:00</td>\n",
       "      <td>1728000002</td>\n",
       "      <td>0.08</td>\n",
       "      <td>0.915</td>\n",
       "      <td>0.0025</td>\n",
       "      <td>NM</td>\n",
       "      <td>2024-10-04</td>\n",
       "    </tr>\n",
       "  </tbody>\n",
       "</table>\n",
       "</div>"
      ],
      "text/plain": [
       "           Date (UTC)  Timestamp (UTC)  Republican  Democrat   Other state  \\\n",
       "189  10-04-2024 00:00       1728000002        0.08     0.915  0.0025    NM   \n",
       "\n",
       "           date  \n",
       "189  2024-10-04  "
      ]
     },
     "execution_count": 10,
     "metadata": {},
     "output_type": "execute_result"
    }
   ],
   "source": [
    "df"
   ]
  },
  {
   "cell_type": "code",
   "execution_count": 90,
   "metadata": {},
   "outputs": [
    {
     "data": {
      "text/plain": [
       "array(['NE', 'RI', 'NH', 'NV', 'OR', 'WI', 'GA', 'AZ', 'MS', 'NC', 'ID',\n",
       "       'IN', 'MT', 'ND', 'MA', 'WV', 'TX', 'DE', 'CO', 'VA', 'OK', 'VT',\n",
       "       'AK', 'KY', 'HI', 'MO', 'FL', 'UT', 'NJ', 'TN', 'SD', 'MD', 'PA',\n",
       "       'CA', 'OH', 'MI', 'NY', 'CT', 'SC', 'WY', 'IL', 'WA', 'MN', 'IA',\n",
       "       'AR', 'LA', 'ME', 'AL', 'KS', 'NM'], dtype=object)"
      ]
     },
     "execution_count": 90,
     "metadata": {},
     "output_type": "execute_result"
    }
   ],
   "source": [
    "df_state['state'].unique()"
   ]
  },
  {
   "cell_type": "code",
   "execution_count": null,
   "metadata": {},
   "outputs": [],
   "source": []
  },
  {
   "cell_type": "code",
   "execution_count": 33,
   "metadata": {},
   "outputs": [
    {
     "data": {
      "text/plain": [
       "array(['03-29-2024 00:00', '03-30-2024 00:00', '03-31-2024 00:00',\n",
       "       '04-01-2024 00:00', '04-02-2024 00:00', '04-03-2024 00:00',\n",
       "       '04-04-2024 00:00', '04-05-2024 00:00', '04-06-2024 00:00',\n",
       "       '04-07-2024 00:00', '04-08-2024 00:00', '04-09-2024 00:00',\n",
       "       '04-10-2024 00:00', '04-11-2024 00:00', '04-12-2024 00:00',\n",
       "       '04-13-2024 00:00', '04-14-2024 00:00', '04-15-2024 00:00',\n",
       "       '04-16-2024 00:00', '04-17-2024 00:00', '04-18-2024 00:00',\n",
       "       '04-19-2024 00:00', '04-20-2024 00:00', '04-21-2024 00:00',\n",
       "       '04-22-2024 00:00', '04-23-2024 00:00', '04-24-2024 00:00',\n",
       "       '04-25-2024 00:00', '04-26-2024 00:00', '04-27-2024 00:00',\n",
       "       '04-28-2024 00:00', '04-29-2024 00:00', '04-30-2024 00:00',\n",
       "       '05-01-2024 00:00', '05-02-2024 00:00', '05-03-2024 00:00',\n",
       "       '05-04-2024 00:00', '05-05-2024 00:00', '05-06-2024 00:00',\n",
       "       '05-07-2024 00:00', '05-08-2024 00:00', '05-09-2024 00:00',\n",
       "       '05-10-2024 00:00', '05-11-2024 00:00', '05-12-2024 00:00',\n",
       "       '05-13-2024 00:00', '05-14-2024 00:00', '05-15-2024 00:00',\n",
       "       '05-16-2024 00:00', '05-17-2024 00:00', '05-18-2024 00:00',\n",
       "       '05-19-2024 00:00', '05-20-2024 00:00', '05-21-2024 00:00',\n",
       "       '05-22-2024 00:00', '05-23-2024 00:00', '05-24-2024 00:00',\n",
       "       '05-25-2024 00:00', '05-26-2024 00:00', '05-27-2024 00:00',\n",
       "       '05-28-2024 00:00', '05-29-2024 00:00', '05-30-2024 00:00',\n",
       "       '05-31-2024 00:00', '06-01-2024 00:00', '06-02-2024 00:00',\n",
       "       '06-03-2024 00:00', '06-04-2024 00:00', '06-05-2024 00:00',\n",
       "       '06-06-2024 00:00', '06-07-2024 00:00', '06-08-2024 00:00',\n",
       "       '06-09-2024 00:00', '06-10-2024 00:00', '06-11-2024 00:00',\n",
       "       '06-12-2024 00:00', '06-13-2024 00:00', '06-14-2024 00:00',\n",
       "       '06-15-2024 00:00', '06-16-2024 00:00', '06-17-2024 00:00',\n",
       "       '06-18-2024 00:00', '06-19-2024 00:00', '06-20-2024 00:00',\n",
       "       '06-21-2024 00:00', '06-22-2024 00:00', '06-23-2024 00:00',\n",
       "       '06-24-2024 00:00', '06-25-2024 00:00', '06-26-2024 00:00',\n",
       "       '06-27-2024 00:00', '06-28-2024 00:00', '06-29-2024 00:00',\n",
       "       '06-30-2024 00:00', '07-01-2024 00:00', '07-02-2024 00:00',\n",
       "       '07-03-2024 00:00', '07-04-2024 00:00', '07-05-2024 00:00',\n",
       "       '07-06-2024 00:00', '07-07-2024 00:00', '07-08-2024 00:00',\n",
       "       '07-09-2024 00:00', '07-10-2024 00:00', '07-11-2024 00:00',\n",
       "       '07-12-2024 00:00', '07-13-2024 00:00', '07-14-2024 00:00',\n",
       "       '07-15-2024 00:00', '07-16-2024 00:00', '07-17-2024 00:00',\n",
       "       '07-18-2024 00:00', '07-19-2024 00:00', '07-20-2024 00:00',\n",
       "       '07-21-2024 00:00', '07-22-2024 00:00', '07-23-2024 00:00',\n",
       "       '07-24-2024 00:00', '07-25-2024 00:00', '07-26-2024 00:00',\n",
       "       '07-27-2024 00:00', '07-28-2024 00:00', '07-29-2024 00:00',\n",
       "       '07-30-2024 00:00', '07-31-2024 00:00', '08-01-2024 00:00',\n",
       "       '08-02-2024 00:00', '08-03-2024 00:00', '08-04-2024 00:00',\n",
       "       '08-05-2024 00:00', '08-06-2024 00:00', '08-07-2024 00:00',\n",
       "       '08-08-2024 00:00', '08-09-2024 00:00', '08-10-2024 00:00',\n",
       "       '08-11-2024 00:00', '08-12-2024 00:00', '08-13-2024 00:00',\n",
       "       '08-14-2024 00:00', '08-15-2024 00:00', '08-16-2024 00:00',\n",
       "       '08-17-2024 00:00', '08-18-2024 00:00', '08-19-2024 00:00',\n",
       "       '08-20-2024 00:00', '08-21-2024 00:00', '08-22-2024 00:00',\n",
       "       '08-23-2024 00:00', '08-24-2024 00:00', '08-25-2024 00:00',\n",
       "       '08-26-2024 00:00', '08-27-2024 00:00', '08-28-2024 00:00',\n",
       "       '08-29-2024 00:00', '08-30-2024 00:00', '08-31-2024 00:00',\n",
       "       '09-01-2024 00:00', '09-02-2024 00:00', '09-03-2024 00:00',\n",
       "       '09-04-2024 00:00', '09-05-2024 00:00', '09-06-2024 00:00',\n",
       "       '09-07-2024 00:00', '09-08-2024 00:00', '09-09-2024 00:00',\n",
       "       '09-10-2024 00:00', '09-11-2024 00:00', '09-12-2024 00:00',\n",
       "       '09-13-2024 00:00', '09-14-2024 00:00', '09-15-2024 00:00',\n",
       "       '09-16-2024 00:00', '09-17-2024 00:00', '09-18-2024 00:00',\n",
       "       '09-19-2024 00:00', '09-20-2024 00:00', '09-21-2024 00:00',\n",
       "       '09-22-2024 00:00', '09-23-2024 00:00', '09-24-2024 00:00',\n",
       "       '09-25-2024 00:00', '09-26-2024 00:00', '09-27-2024 00:00',\n",
       "       '09-28-2024 00:00', '09-29-2024 00:00', '09-30-2024 00:00',\n",
       "       '10-01-2024 00:00', '10-02-2024 00:00', '10-03-2024 00:00',\n",
       "       '10-04-2024 00:00', '10-05-2024 00:00', '10-05-2024 15:05',\n",
       "       '10-05-2024 15:15', '03-20-2024 00:00', '03-21-2024 00:00',\n",
       "       '03-22-2024 00:00', '03-23-2024 00:00', '03-24-2024 00:00',\n",
       "       '03-25-2024 00:00', '03-26-2024 00:00', '03-27-2024 00:00',\n",
       "       '03-28-2024 00:00', '10-05-2024 14:51', '03-08-2024 00:00',\n",
       "       '03-09-2024 00:00', '03-10-2024 00:00', '03-11-2024 00:00',\n",
       "       '03-12-2024 00:00', '03-13-2024 00:00', '03-14-2024 00:00',\n",
       "       '03-15-2024 00:00', '03-16-2024 00:00', '03-17-2024 00:00',\n",
       "       '03-18-2024 00:00', '03-19-2024 00:00', '10-05-2024 15:10',\n",
       "       '10-05-2024 14:56', '10-05-2024 15:04', '10-05-2024 14:05',\n",
       "       '10-05-2024 14:00', '10-05-2024 14:48', '10-05-2024 14:16',\n",
       "       '10-05-2024 15:09', '10-05-2024 14:06', '10-05-2024 14:50',\n",
       "       '10-05-2024 14:17', '10-05-2024 14:11', '10-05-2024 14:30',\n",
       "       '10-05-2024 14:24', '10-05-2024 14:38', '10-05-2024 14:02',\n",
       "       '10-05-2024 15:01', '10-05-2024 14:19', '10-05-2024 15:12',\n",
       "       '10-05-2024 13:58', '10-05-2024 14:43', '10-05-2024 14:40',\n",
       "       '10-05-2024 14:29', '10-05-2024 14:03', '10-05-2024 14:59',\n",
       "       '10-05-2024 14:14', '10-05-2024 14:57', '10-05-2024 14:22',\n",
       "       '10-05-2024 14:45', '10-05-2024 14:20', '10-05-2024 14:37',\n",
       "       '10-05-2024 14:54', '10-05-2024 14:46', '10-05-2024 14:53',\n",
       "       '10-05-2024 14:27', '10-05-2024 15:07', '10-05-2024 14:25',\n",
       "       '10-05-2024 14:32', '10-05-2024 15:02', '10-05-2024 14:13',\n",
       "       '10-05-2024 14:42', '10-05-2024 14:35', '10-05-2024 15:13',\n",
       "       '10-05-2024 14:09', '10-05-2024 13:57', '10-05-2024 14:08',\n",
       "       '10-05-2024 14:34'], dtype=object)"
      ]
     },
     "execution_count": 33,
     "metadata": {},
     "output_type": "execute_result"
    }
   ],
   "source": [
    "dates"
   ]
  },
  {
   "cell_type": "code",
   "execution_count": 28,
   "metadata": {},
   "outputs": [
    {
     "data": {
      "text/html": [
       "<div>\n",
       "<style scoped>\n",
       "    .dataframe tbody tr th:only-of-type {\n",
       "        vertical-align: middle;\n",
       "    }\n",
       "\n",
       "    .dataframe tbody tr th {\n",
       "        vertical-align: top;\n",
       "    }\n",
       "\n",
       "    .dataframe thead th {\n",
       "        text-align: right;\n",
       "    }\n",
       "</style>\n",
       "<table border=\"1\" class=\"dataframe\">\n",
       "  <thead>\n",
       "    <tr style=\"text-align: right;\">\n",
       "      <th></th>\n",
       "      <th>date</th>\n",
       "      <th>ticker_name</th>\n",
       "      <th>report_ticker</th>\n",
       "      <th>payout_type</th>\n",
       "      <th>open_interest</th>\n",
       "      <th>daily_volume</th>\n",
       "      <th>block_volume</th>\n",
       "      <th>high</th>\n",
       "      <th>low</th>\n",
       "      <th>status</th>\n",
       "    </tr>\n",
       "  </thead>\n",
       "  <tbody>\n",
       "    <tr>\n",
       "      <th>0</th>\n",
       "      <td>2022-05-15</td>\n",
       "      <td>TURKEU-22JUN29</td>\n",
       "      <td>TURKEU</td>\n",
       "      <td>Binary Option</td>\n",
       "      <td>9994.0</td>\n",
       "      <td>0</td>\n",
       "      <td>0</td>\n",
       "      <td>1</td>\n",
       "      <td>1</td>\n",
       "      <td>finalized</td>\n",
       "    </tr>\n",
       "    <tr>\n",
       "      <th>1</th>\n",
       "      <td>2022-05-15</td>\n",
       "      <td>RECSS-22JUL</td>\n",
       "      <td>RECSS</td>\n",
       "      <td>Binary Option</td>\n",
       "      <td>68267.0</td>\n",
       "      <td>965</td>\n",
       "      <td>0</td>\n",
       "      <td>94</td>\n",
       "      <td>91</td>\n",
       "      <td>finalized</td>\n",
       "    </tr>\n",
       "    <tr>\n",
       "      <th>2</th>\n",
       "      <td>2022-05-15</td>\n",
       "      <td>CPTPP-23JAN4</td>\n",
       "      <td>CPTPP</td>\n",
       "      <td>Binary Option</td>\n",
       "      <td>2392.0</td>\n",
       "      <td>0</td>\n",
       "      <td>0</td>\n",
       "      <td>5</td>\n",
       "      <td>5</td>\n",
       "      <td>active</td>\n",
       "    </tr>\n",
       "    <tr>\n",
       "      <th>3</th>\n",
       "      <td>2022-05-15</td>\n",
       "      <td>MOON-25</td>\n",
       "      <td>MOON</td>\n",
       "      <td>Binary Option</td>\n",
       "      <td>5834.0</td>\n",
       "      <td>150</td>\n",
       "      <td>0</td>\n",
       "      <td>17</td>\n",
       "      <td>16</td>\n",
       "      <td>active</td>\n",
       "    </tr>\n",
       "    <tr>\n",
       "      <th>4</th>\n",
       "      <td>2022-05-15</td>\n",
       "      <td>MANCHIN-22JUL05</td>\n",
       "      <td>MANCHIN</td>\n",
       "      <td>Binary Option</td>\n",
       "      <td>7356.0</td>\n",
       "      <td>0</td>\n",
       "      <td>0</td>\n",
       "      <td>4</td>\n",
       "      <td>4</td>\n",
       "      <td>finalized</td>\n",
       "    </tr>\n",
       "  </tbody>\n",
       "</table>\n",
       "</div>"
      ],
      "text/plain": [
       "         date      ticker_name report_ticker    payout_type  open_interest  \\\n",
       "0  2022-05-15   TURKEU-22JUN29        TURKEU  Binary Option         9994.0   \n",
       "1  2022-05-15      RECSS-22JUL         RECSS  Binary Option        68267.0   \n",
       "2  2022-05-15     CPTPP-23JAN4         CPTPP  Binary Option         2392.0   \n",
       "3  2022-05-15          MOON-25          MOON  Binary Option         5834.0   \n",
       "4  2022-05-15  MANCHIN-22JUL05       MANCHIN  Binary Option         7356.0   \n",
       "\n",
       "   daily_volume  block_volume  high  low     status  \n",
       "0             0             0     1    1  finalized  \n",
       "1           965             0    94   91  finalized  \n",
       "2             0             0     5    5     active  \n",
       "3           150             0    17   16     active  \n",
       "4             0             0     4    4  finalized  "
      ]
     },
     "execution_count": 28,
     "metadata": {},
     "output_type": "execute_result"
    }
   ],
   "source": [
    "df.head()"
   ]
  },
  {
   "cell_type": "code",
   "execution_count": 27,
   "metadata": {},
   "outputs": [
    {
     "data": {
      "text/plain": [
       "[]"
      ]
     },
     "execution_count": 27,
     "metadata": {},
     "output_type": "execute_result"
    }
   ],
   "source": [
    "[i for i in df['ticker_name'].unique() if 'DJT' in i]"
   ]
  },
  {
   "cell_type": "code",
   "execution_count": 17,
   "metadata": {},
   "outputs": [
    {
     "ename": "NameError",
     "evalue": "name 'data' is not defined",
     "output_type": "error",
     "traceback": [
      "\u001b[0;31m---------------------------------------------------------------------------\u001b[0m",
      "\u001b[0;31mNameError\u001b[0m                                 Traceback (most recent call last)",
      "Cell \u001b[0;32mIn[17], line 1\u001b[0m\n\u001b[0;32m----> 1\u001b[0m \u001b[43mdata\u001b[49m\n",
      "\u001b[0;31mNameError\u001b[0m: name 'data' is not defined"
     ]
    }
   ],
   "source": [
    "data = []\n",
    "for state in states:\n",
    "    for date in dates:\n",
    "        state_df = df[df['state'] == state]\n",
    "        date_df = state_df[state_df['Date (UTC)'] == date]\n",
    "        if len(date_df) == 0:\n",
    "            continue\n",
    "        data.append({\n",
    "            'state': state,\n",
    "            'date': date,\n",
    "            'mean': date_df['Mean'].mean(),\n",
    "            'median': date_df['Median'].mean(),\n",
    "            'std': date_df['Std'].mean(),\n",
    "        })"
   ]
  },
  {
   "cell_type": "code",
   "execution_count": 11,
   "metadata": {},
   "outputs": [
    {
     "data": {
      "text/html": [
       "<div>\n",
       "<style scoped>\n",
       "    .dataframe tbody tr th:only-of-type {\n",
       "        vertical-align: middle;\n",
       "    }\n",
       "\n",
       "    .dataframe tbody tr th {\n",
       "        vertical-align: top;\n",
       "    }\n",
       "\n",
       "    .dataframe thead th {\n",
       "        text-align: right;\n",
       "    }\n",
       "</style>\n",
       "<table border=\"1\" class=\"dataframe\">\n",
       "  <thead>\n",
       "    <tr style=\"text-align: right;\">\n",
       "      <th></th>\n",
       "      <th>Date (UTC)</th>\n",
       "      <th>Timestamp (UTC)</th>\n",
       "      <th>Republican</th>\n",
       "      <th>Democrat</th>\n",
       "      <th>Other</th>\n",
       "      <th>state</th>\n",
       "    </tr>\n",
       "  </thead>\n",
       "  <tbody>\n",
       "    <tr>\n",
       "      <th>0</th>\n",
       "      <td>03-29-2024 00:00</td>\n",
       "      <td>1711670402</td>\n",
       "      <td>0.915</td>\n",
       "      <td>0.080</td>\n",
       "      <td>0.0110</td>\n",
       "      <td>NE</td>\n",
       "    </tr>\n",
       "    <tr>\n",
       "      <th>1</th>\n",
       "      <td>03-30-2024 00:00</td>\n",
       "      <td>1711756802</td>\n",
       "      <td>0.910</td>\n",
       "      <td>0.085</td>\n",
       "      <td>0.0090</td>\n",
       "      <td>NE</td>\n",
       "    </tr>\n",
       "    <tr>\n",
       "      <th>2</th>\n",
       "      <td>03-31-2024 00:00</td>\n",
       "      <td>1711843203</td>\n",
       "      <td>0.915</td>\n",
       "      <td>0.085</td>\n",
       "      <td>0.0085</td>\n",
       "      <td>NE</td>\n",
       "    </tr>\n",
       "    <tr>\n",
       "      <th>3</th>\n",
       "      <td>04-01-2024 00:00</td>\n",
       "      <td>1711929602</td>\n",
       "      <td>0.915</td>\n",
       "      <td>0.085</td>\n",
       "      <td>0.0085</td>\n",
       "      <td>NE</td>\n",
       "    </tr>\n",
       "    <tr>\n",
       "      <th>4</th>\n",
       "      <td>04-02-2024 00:00</td>\n",
       "      <td>1712016003</td>\n",
       "      <td>0.915</td>\n",
       "      <td>0.085</td>\n",
       "      <td>0.0065</td>\n",
       "      <td>NE</td>\n",
       "    </tr>\n",
       "  </tbody>\n",
       "</table>\n",
       "</div>"
      ],
      "text/plain": [
       "         Date (UTC)  Timestamp (UTC)  Republican  Democrat   Other state\n",
       "0  03-29-2024 00:00       1711670402       0.915     0.080  0.0110    NE\n",
       "1  03-30-2024 00:00       1711756802       0.910     0.085  0.0090    NE\n",
       "2  03-31-2024 00:00       1711843203       0.915     0.085  0.0085    NE\n",
       "3  04-01-2024 00:00       1711929602       0.915     0.085  0.0085    NE\n",
       "4  04-02-2024 00:00       1712016003       0.915     0.085  0.0065    NE"
      ]
     },
     "execution_count": 11,
     "metadata": {},
     "output_type": "execute_result"
    }
   ],
   "source": [
    "df.head()"
   ]
  },
  {
   "cell_type": "code",
   "execution_count": 6,
   "metadata": {},
   "outputs": [
    {
     "data": {
      "text/html": [
       "<div>\n",
       "<style scoped>\n",
       "    .dataframe tbody tr th:only-of-type {\n",
       "        vertical-align: middle;\n",
       "    }\n",
       "\n",
       "    .dataframe tbody tr th {\n",
       "        vertical-align: top;\n",
       "    }\n",
       "\n",
       "    .dataframe thead th {\n",
       "        text-align: right;\n",
       "    }\n",
       "</style>\n",
       "<table border=\"1\" class=\"dataframe\">\n",
       "  <thead>\n",
       "    <tr style=\"text-align: right;\">\n",
       "      <th></th>\n",
       "      <th>Date (UTC)</th>\n",
       "      <th>Timestamp (UTC)</th>\n",
       "      <th>Republican</th>\n",
       "      <th>Democrat</th>\n",
       "      <th>Other</th>\n",
       "    </tr>\n",
       "  </thead>\n",
       "  <tbody>\n",
       "    <tr>\n",
       "      <th>0</th>\n",
       "      <td>03-29-2024 00:00</td>\n",
       "      <td>1711670402</td>\n",
       "      <td>0.915</td>\n",
       "      <td>0.080</td>\n",
       "      <td>0.0110</td>\n",
       "    </tr>\n",
       "    <tr>\n",
       "      <th>1</th>\n",
       "      <td>03-30-2024 00:00</td>\n",
       "      <td>1711756802</td>\n",
       "      <td>0.910</td>\n",
       "      <td>0.085</td>\n",
       "      <td>0.0090</td>\n",
       "    </tr>\n",
       "    <tr>\n",
       "      <th>2</th>\n",
       "      <td>03-31-2024 00:00</td>\n",
       "      <td>1711843203</td>\n",
       "      <td>0.915</td>\n",
       "      <td>0.085</td>\n",
       "      <td>0.0085</td>\n",
       "    </tr>\n",
       "    <tr>\n",
       "      <th>3</th>\n",
       "      <td>04-01-2024 00:00</td>\n",
       "      <td>1711929602</td>\n",
       "      <td>0.915</td>\n",
       "      <td>0.085</td>\n",
       "      <td>0.0085</td>\n",
       "    </tr>\n",
       "    <tr>\n",
       "      <th>4</th>\n",
       "      <td>04-02-2024 00:00</td>\n",
       "      <td>1712016003</td>\n",
       "      <td>0.915</td>\n",
       "      <td>0.085</td>\n",
       "      <td>0.0065</td>\n",
       "    </tr>\n",
       "  </tbody>\n",
       "</table>\n",
       "</div>"
      ],
      "text/plain": [
       "         Date (UTC)  Timestamp (UTC)  Republican  Democrat   Other\n",
       "0  03-29-2024 00:00       1711670402       0.915     0.080  0.0110\n",
       "1  03-30-2024 00:00       1711756802       0.910     0.085  0.0090\n",
       "2  03-31-2024 00:00       1711843203       0.915     0.085  0.0085\n",
       "3  04-01-2024 00:00       1711929602       0.915     0.085  0.0085\n",
       "4  04-02-2024 00:00       1712016003       0.915     0.085  0.0065"
      ]
     },
     "execution_count": 6,
     "metadata": {},
     "output_type": "execute_result"
    }
   ],
   "source": [
    "dataframes[0].head()"
   ]
  },
  {
   "cell_type": "code",
   "execution_count": 7,
   "metadata": {},
   "outputs": [
    {
     "data": {
      "text/plain": [
       "'NM_daily.csv'"
      ]
     },
     "execution_count": 7,
     "metadata": {},
     "output_type": "execute_result"
    }
   ],
   "source": [
    "file_name"
   ]
  },
  {
   "cell_type": "code",
   "execution_count": null,
   "metadata": {},
   "outputs": [],
   "source": []
  }
 ],
 "metadata": {
  "kernelspec": {
   "display_name": "base",
   "language": "python",
   "name": "python3"
  },
  "language_info": {
   "codemirror_mode": {
    "name": "ipython",
    "version": 3
   },
   "file_extension": ".py",
   "mimetype": "text/x-python",
   "name": "python",
   "nbconvert_exporter": "python",
   "pygments_lexer": "ipython3",
   "version": "3.11.6"
  }
 },
 "nbformat": 4,
 "nbformat_minor": 2
}
